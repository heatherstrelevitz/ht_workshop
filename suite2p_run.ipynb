{
  "nbformat": 4,
  "nbformat_minor": 0,
  "metadata": {
    "colab": {
      "provenance": [],
      "authorship_tag": "ABX9TyPi7wpy942KF2dJnfdj/xmY",
      "include_colab_link": true
    },
    "kernelspec": {
      "name": "python3",
      "display_name": "Python 3"
    },
    "language_info": {
      "name": "python"
    }
  },
  "cells": [
    {
      "cell_type": "markdown",
      "metadata": {
        "id": "view-in-github",
        "colab_type": "text"
      },
      "source": [
        "<a href=\"https://colab.research.google.com/github/heatherstrelevitz/ht_workshop/blob/main/suite2p_run.ipynb\" target=\"_parent\"><img src=\"https://colab.research.google.com/assets/colab-badge.svg\" alt=\"Open In Colab\"/></a>"
      ]
    },
    {
      "cell_type": "code",
      "source": [
        "#link your google drive to get the data\n",
        "from google.colab import drive\n",
        "drive.mount('/content/drive')"
      ],
      "metadata": {
        "id": "sHKVn-C55rYU"
      },
      "execution_count": null,
      "outputs": []
    },
    {
      "cell_type": "code",
      "source": [
        "!pip install suite2p\n",
        "!pip install nd2\n",
        "import matplotlib.pyplot as plt\n",
        "import numpy as np"
      ],
      "metadata": {
        "collapsed": true,
        "id": "aCwfTl77LwBe"
      },
      "execution_count": null,
      "outputs": []
    },
    {
      "cell_type": "code",
      "source": [
        "#load default ops\n",
        "import suite2p\n",
        "ops = suite2p.default_ops()\n",
        "print(ops)"
      ],
      "metadata": {
        "id": "CvBZUaFFM6dT",
        "collapsed": true
      },
      "execution_count": null,
      "outputs": []
    },
    {
      "cell_type": "code",
      "source": [
        "#load our preset ops for different kinds of data and see what's different from the default\n",
        "#load 1P ops\n",
        "ops_1P_path = '/content/drive/MyDrive/suite2p_tutorial/Ops/ops_1P_miniscope.npy'\n",
        "ops_1P =  np.load(ops_1P_path, allow_pickle=True)\n",
        "ops_1P = ops_1P.item()\n",
        "differences_1P = {k: (ops[k], ops_1P[k]) for k in ops if ops[k] != ops_1P[k]}\n",
        "print(differences_1P)\n",
        "\n",
        "#load 2P cell culture\n",
        "ops_2P_culture_path = '/content/drive/MyDrive/suite2p_tutorial/Ops/ops_2d_culture.npy'\n",
        "ops_2P_culture =  np.load(ops_2P_culture_path, allow_pickle=True)\n",
        "ops_2P_culture = ops_2P_culture.item()\n",
        "differences_2P_culture = {k: (ops[k], ops_2P_culture[k]) for k in ops if ops[k] != ops_2P_culture[k]}\n",
        "print(differences_2P_culture)\n",
        "\n",
        "#load 2P in vivo ops\n",
        "ops_2P_in_vivo_path = '/content/drive/MyDrive/suite2p_tutorial/Ops/ops_2P_GCaMP8s_1plane.npy'\n",
        "ops_2P_in_vivo =  np.load(ops_2P_in_vivo_path, allow_pickle=True)\n",
        "ops_2P_in_vivo = ops_2P_in_vivo.item()\n",
        "differences_2P_in_vivo = {k: (ops[k], ops_2P_in_vivo[k]) for k in ops if ops[k] != ops_2P_in_vivo[k]}\n",
        "print(differences_2P_in_vivo)"
      ],
      "metadata": {
        "id": "TNkUdts7RaFz"
      },
      "execution_count": null,
      "outputs": []
    },
    {
      "cell_type": "code",
      "source": [
        "#Define db for each data type\n",
        "#db for 1P\n",
        "db_1P = {\n",
        "    'data_path': \"/content/drive/MyDrive/suite2p_tutorial/Data/1P_miniscope/Short\",\n",
        "    'save_path0': \"C:/Suite2P/1P\",\n",
        "}\n",
        "#db for 2P cell culture\n",
        "db_2P_culture = {\n",
        "    'data_path': \"/content/drive/MyDrive/suite2p_tutorial/Data/2P_2Dculture/1\",\n",
        "    'save_path0': \"C:/Suite2P/2P_culture\",\n",
        "    'input_format': \"nd2\"\n",
        "}\n",
        "#db for 2P in vivo\n",
        "db_2P_in_vivo = {\n",
        "    'data_path': \"/content/drive/MyDrive/suite2p_tutorial/Data/2P_invivo/GCaMP8s_1Plane_2Ch\",\n",
        "    'save_path0': \"C:/Suite2P/2P_in_vivo\",\n",
        "}"
      ],
      "metadata": {
        "id": "D6ZWw6HSUMCW"
      },
      "execution_count": null,
      "outputs": []
    },
    {
      "cell_type": "code",
      "source": [
        "#Run Suite2P!\n",
        "#insert your desired ops and db\n",
        "output_ops = suite2p.run_s2p(ops=ops_1P, db=db_1P)\n",
        "#You can open the results in the GUI by loading the stat file."
      ],
      "metadata": {
        "id": "-jnof9_4VWX0"
      },
      "execution_count": null,
      "outputs": []
    },
    {
      "cell_type": "code",
      "source": [
        "#To run a batch of experiments with the same ops but different dbs, make a list of dbs and loop over it.\n",
        "#Fill in the dbs with whatever you want to process!\n",
        "db = []\n",
        "db.append({'data_path': ['file_path']})\n",
        "db.append({'data_path': ['file_path']})\n",
        "\n",
        "for dbi in db:\n",
        "    output_ops = run_s2p(ops=ops, db=dbi)"
      ],
      "metadata": {
        "id": "CL68_q5xlORn"
      },
      "execution_count": null,
      "outputs": []
    }
  ]
}