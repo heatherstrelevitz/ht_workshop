{
  "nbformat": 4,
  "nbformat_minor": 0,
  "metadata": {
    "colab": {
      "provenance": [],
      "authorship_tag": "ABX9TyPNXIYNqjLDWBOmMuNWRIbo",
      "include_colab_link": true
    },
    "kernelspec": {
      "name": "python3",
      "display_name": "Python 3"
    },
    "language_info": {
      "name": "python"
    }
  },
  "cells": [
    {
      "cell_type": "markdown",
      "metadata": {
        "id": "view-in-github",
        "colab_type": "text"
      },
      "source": [
        "<a href=\"https://colab.research.google.com/github/heatherstrelevitz/ht_workshop/blob/main/suite2p_run.ipynb\" target=\"_parent\"><img src=\"https://colab.research.google.com/assets/colab-badge.svg\" alt=\"Open In Colab\"/></a>"
      ]
    },
    {
      "cell_type": "code",
      "source": [
        "!pip install suite2p\n",
        "import matplotlib.pyplot as plt\n",
        "import numpy as np"
      ],
      "metadata": {
        "collapsed": true,
        "id": "aCwfTl77LwBe"
      },
      "execution_count": null,
      "outputs": []
    },
    {
      "cell_type": "code",
      "source": [
        "#load default ops\n",
        "import suite2p\n",
        "ops = suite2p.default_ops()\n",
        "print(ops)"
      ],
      "metadata": {
        "id": "CvBZUaFFM6dT",
        "collapsed": true
      },
      "execution_count": null,
      "outputs": []
    },
    {
      "cell_type": "code",
      "source": [
        "#load our preset ops for different kinds of data and see what's different from the default\n",
        "#load 1P ops\n",
        "ops_1P = 'file'\n",
        "differences_1P = {k: (ops[k], ops_1P[k]) for k in ops if ops[k] != ops_1P[k]}\n",
        "print(differences_1P)\n",
        "\n",
        "#load 2P cell culture\n",
        "ops_2P_culture = 'file'\n",
        "differences_2P_culture = {k: (ops[k], ops_2P_culture[k]) for k in ops if ops[k] != ops_2P_culture[k]}\n",
        "print(differences_2P_culture)\n",
        "\n",
        "#load 2P in vivo ops\n",
        "ops_2P_in_vivo = 'file'\n",
        "differences_2P_in_vivo = {k: (ops[k], ops_2P_in_vivo[k]) for k in ops if ops[k] != ops_2P_in_vivo[k]}\n",
        "print(differences_2P_in_vivo)"
      ],
      "metadata": {
        "id": "TNkUdts7RaFz"
      },
      "execution_count": null,
      "outputs": []
    },
    {
      "cell_type": "code",
      "source": [
        "#Define db for each data type\n",
        "#db for 1P\n",
        "db_1P = {\n",
        "    'data_path': \"file\",\n",
        "    'save_path0': \"file\",\n",
        "}\n",
        "#db for 2P cell culture\n",
        "db_2P_culture = {\n",
        "    'data_path': \"file\",\n",
        "    'save_path0': \"file\",\n",
        "}\n",
        "#db for 2P in vivo\n",
        "db_2P_in_vivo = {\n",
        "    'data_path': \"file\",\n",
        "    'save_path0': \"file\",\n",
        "}"
      ],
      "metadata": {
        "id": "D6ZWw6HSUMCW"
      },
      "execution_count": null,
      "outputs": []
    },
    {
      "cell_type": "code",
      "source": [
        "#Run Suite2P!\n",
        "#insert your desired ops and db\n",
        "output_ops = suite2p.run_s2p(ops=ops, db=db)\n",
        "#You can open the results in the GUI by loading the stat file."
      ],
      "metadata": {
        "id": "-jnof9_4VWX0"
      },
      "execution_count": null,
      "outputs": []
    }
  ]
}